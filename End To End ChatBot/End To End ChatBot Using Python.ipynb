{
 "cells": [
  {
   "cell_type": "markdown",
   "id": "28f5ad32",
   "metadata": {},
   "source": [
    "# What is Chatbot?\n",
    "\n",
    "A chatbot is a computer program that understands the intent of your query to answer with a solution. Chatbots are the most popular applications of Natural Language Processing in the industry. So, if you want to build an end-to-end chatbot, this article is for you. In this article, I will take you through how to create an end-to-end chatbot using Python."
   ]
  },
  {
   "cell_type": "markdown",
   "id": "ccffefa0",
   "metadata": {},
   "source": [
    "# What is an End to End Chatbot?\n",
    "\n",
    "An end-to-end chatbot refers to a chatbot that can handle a complete conversation from start to finish without requiring human assistance. To create an end-to-end chatbot, you need to write a computer program that can understand user requests, generate appropriate responses, and take action when necessary. This involves collecting data, choosing a programming language and NLP tools, training the chatbot, and testing and refining it before making it available to users. \n",
    "\n",
    "Once deployed, users can interact with the chatbot by sending it multiple requests and the chatbot can handle the entire conversation itself. To create an end-to-end chatbot using Python, we can follow the steps mentioned below:\n",
    "\n",
    "Define Intents\n",
    "\n",
    "Create training data\n",
    "\n",
    "Train the chatbot\n",
    "\n",
    "Build the chatbot\n",
    "\n",
    "Test the chatbot\n",
    "\n",
    "Deploy the chatbot\n",
    "\n",
    "I hope you now have understood what an end-to-end chatbot is and the process of creating an end-to-end chatbot. In the section below, I’ll walk you through how to build an end-to-end chatbot using Python."
   ]
  },
  {
   "cell_type": "code",
   "execution_count": 2,
   "id": "389ecae2",
   "metadata": {},
   "outputs": [
    {
     "name": "stdout",
     "output_type": "stream",
     "text": [
      "Requirement already satisfied: streamlit in d:\\python\\lib\\site-packages (1.21.0)\n",
      "Requirement already satisfied: blinker>=1.0.0 in d:\\python\\lib\\site-packages (from streamlit) (1.6.2)\n",
      "Requirement already satisfied: pandas<2,>=0.25 in d:\\python\\lib\\site-packages (from streamlit) (1.2.4)\n",
      "Requirement already satisfied: pillow>=6.2.0 in d:\\python\\lib\\site-packages (from streamlit) (8.2.0)\n",
      "Requirement already satisfied: python-dateutil in d:\\python\\lib\\site-packages (from streamlit) (2.8.1)\n",
      "Requirement already satisfied: protobuf<4,>=3.12 in d:\\python\\lib\\site-packages (from streamlit) (3.20.3)\n",
      "Requirement already satisfied: tzlocal>=1.1 in d:\\python\\lib\\site-packages (from streamlit) (4.3)\n",
      "Requirement already satisfied: pydeck>=0.1.dev5 in d:\\python\\lib\\site-packages (from streamlit) (0.8.0)\n",
      "Requirement already satisfied: rich>=10.11.0 in d:\\python\\lib\\site-packages (from streamlit) (13.3.4)\n",
      "Requirement already satisfied: validators>=0.2 in d:\\python\\lib\\site-packages (from streamlit) (0.20.0)\n",
      "Requirement already satisfied: pyarrow>=4.0 in d:\\python\\lib\\site-packages (from streamlit) (11.0.0)\n",
      "Requirement already satisfied: typing-extensions>=3.10.0.0 in d:\\python\\lib\\site-packages (from streamlit) (4.5.0)\n",
      "Requirement already satisfied: click>=7.0 in d:\\python\\lib\\site-packages (from streamlit) (7.1.2)\n",
      "Requirement already satisfied: pympler>=0.9 in d:\\python\\lib\\site-packages (from streamlit) (1.0.1)\n",
      "Requirement already satisfied: requests>=2.4 in d:\\python\\lib\\site-packages (from streamlit) (2.25.1)\n",
      "Requirement already satisfied: importlib-metadata>=1.4 in d:\\python\\lib\\site-packages (from streamlit) (3.10.0)\n",
      "Requirement already satisfied: tornado>=6.0.3 in d:\\python\\lib\\site-packages (from streamlit) (6.1)\n",
      "Requirement already satisfied: cachetools>=4.0 in d:\\python\\lib\\site-packages (from streamlit) (5.3.0)\n",
      "Requirement already satisfied: numpy in d:\\python\\lib\\site-packages (from streamlit) (1.20.1)\n",
      "Requirement already satisfied: gitpython!=3.1.19 in d:\\python\\lib\\site-packages (from streamlit) (3.1.31)\n",
      "Requirement already satisfied: altair<5,>=3.2.0 in d:\\python\\lib\\site-packages (from streamlit) (4.2.2)\n",
      "Requirement already satisfied: toml in d:\\python\\lib\\site-packages (from streamlit) (0.10.2)\n",
      "Requirement already satisfied: packaging>=14.1 in d:\\python\\lib\\site-packages (from streamlit) (20.9)\n",
      "Requirement already satisfied: watchdog in d:\\python\\lib\\site-packages (from streamlit) (1.0.2)\n",
      "Requirement already satisfied: toolz in d:\\python\\lib\\site-packages (from altair<5,>=3.2.0->streamlit) (0.11.1)\n",
      "Requirement already satisfied: jinja2 in d:\\python\\lib\\site-packages (from altair<5,>=3.2.0->streamlit) (2.11.3)\n",
      "Requirement already satisfied: jsonschema>=3.0 in d:\\python\\lib\\site-packages (from altair<5,>=3.2.0->streamlit) (3.2.0)\n",
      "Requirement already satisfied: entrypoints in d:\\python\\lib\\site-packages (from altair<5,>=3.2.0->streamlit) (0.3)\n",
      "Requirement already satisfied: gitdb<5,>=4.0.1 in d:\\python\\lib\\site-packages (from gitpython!=3.1.19->streamlit) (4.0.10)\n",
      "Requirement already satisfied: smmap<6,>=3.0.1 in d:\\python\\lib\\site-packages (from gitdb<5,>=4.0.1->gitpython!=3.1.19->streamlit) (5.0.0)\n",
      "Requirement already satisfied: zipp>=0.5 in d:\\python\\lib\\site-packages (from importlib-metadata>=1.4->streamlit) (3.4.1)\n",
      "Requirement already satisfied: pyrsistent>=0.14.0 in d:\\python\\lib\\site-packages (from jsonschema>=3.0->altair<5,>=3.2.0->streamlit) (0.17.3)\n",
      "Requirement already satisfied: six>=1.11.0 in d:\\python\\lib\\site-packages (from jsonschema>=3.0->altair<5,>=3.2.0->streamlit) (1.15.0)\n",
      "Requirement already satisfied: setuptools in d:\\python\\lib\\site-packages (from jsonschema>=3.0->altair<5,>=3.2.0->streamlit) (52.0.0.post20210125)\n",
      "Requirement already satisfied: attrs>=17.4.0 in d:\\python\\lib\\site-packages (from jsonschema>=3.0->altair<5,>=3.2.0->streamlit) (20.3.0)\n",
      "Requirement already satisfied: pyparsing>=2.0.2 in d:\\python\\lib\\site-packages (from packaging>=14.1->streamlit) (2.4.7)\n",
      "Requirement already satisfied: pytz>=2017.3 in d:\\python\\lib\\site-packages (from pandas<2,>=0.25->streamlit) (2021.1)\n",
      "Requirement already satisfied: MarkupSafe>=0.23 in d:\\python\\lib\\site-packages (from jinja2->altair<5,>=3.2.0->streamlit) (1.1.1)\n",
      "Requirement already satisfied: certifi>=2017.4.17 in d:\\python\\lib\\site-packages (from requests>=2.4->streamlit) (2020.12.5)\n",
      "Requirement already satisfied: idna<3,>=2.5 in d:\\python\\lib\\site-packages (from requests>=2.4->streamlit) (2.10)\n",
      "Requirement already satisfied: chardet<5,>=3.0.2 in d:\\python\\lib\\site-packages (from requests>=2.4->streamlit) (4.0.0)\n",
      "Requirement already satisfied: urllib3<1.27,>=1.21.1 in d:\\python\\lib\\site-packages (from requests>=2.4->streamlit) (1.26.4)\n",
      "Requirement already satisfied: markdown-it-py<3.0.0,>=2.2.0 in d:\\python\\lib\\site-packages (from rich>=10.11.0->streamlit) (2.2.0)\n",
      "Requirement already satisfied: pygments<3.0.0,>=2.13.0 in d:\\python\\lib\\site-packages (from rich>=10.11.0->streamlit) (2.15.0)\n",
      "Requirement already satisfied: mdurl~=0.1 in d:\\python\\lib\\site-packages (from markdown-it-py<3.0.0,>=2.2.0->rich>=10.11.0->streamlit) (0.1.2)\n",
      "Requirement already satisfied: backports.zoneinfo in d:\\python\\lib\\site-packages (from tzlocal>=1.1->streamlit) (0.2.1)\n",
      "Requirement already satisfied: tzdata in d:\\python\\lib\\site-packages (from tzlocal>=1.1->streamlit) (2023.3)\n",
      "Requirement already satisfied: pytz-deprecation-shim in d:\\python\\lib\\site-packages (from tzlocal>=1.1->streamlit) (0.1.0.post0)\n",
      "Requirement already satisfied: decorator>=3.4.0 in d:\\python\\lib\\site-packages (from validators>=0.2->streamlit) (5.0.6)\n",
      "Note: you may need to restart the kernel to use updated packages.\n"
     ]
    }
   ],
   "source": [
    "pip install streamlit"
   ]
  },
  {
   "cell_type": "code",
   "execution_count": 3,
   "id": "4e63a5a8",
   "metadata": {},
   "outputs": [
    {
     "name": "stderr",
     "output_type": "stream",
     "text": [
      "[nltk_data] Downloading package punkt to\n",
      "[nltk_data]     C:\\Users\\hp\\AppData\\Roaming\\nltk_data...\n",
      "[nltk_data]   Package punkt is already up-to-date!\n"
     ]
    },
    {
     "data": {
      "text/plain": [
       "True"
      ]
     },
     "execution_count": 3,
     "metadata": {},
     "output_type": "execute_result"
    }
   ],
   "source": [
    "import os\n",
    "import nltk\n",
    "import ssl\n",
    "\n",
    "import random\n",
    "from sklearn.feature_extraction.text import TfidfVectorizer\n",
    "from sklearn.linear_model import LogisticRegression\n",
    "# Warnings\n",
    "import warnings\n",
    "warnings.filterwarnings(\"ignore\")\n",
    "\n",
    "nltk.data.path.append(os.path.abspath(\"nltk_data\"))\n",
    "nltk.download('punkt')"
   ]
  },
  {
   "cell_type": "markdown",
   "id": "b2d18422",
   "metadata": {},
   "source": [
    "Now let’s define some intents of the chatbot. You can add more intents to make the chatbot more helpful and more functional:"
   ]
  },
  {
   "cell_type": "code",
   "execution_count": 4,
   "id": "06efb11b",
   "metadata": {},
   "outputs": [],
   "source": [
    "intents = [\n",
    "    {\n",
    "        \"tag\": \"greeting\",\n",
    "        \"patterns\": [\"Hi\", \"Hello\", \"Hey\", \"How are you\", \"What's up\"],\n",
    "        \"responses\": [\"Hi there\", \"Hello\", \"Hey\", \"I'm fine, thank you\", \"Nothing much\"]\n",
    "    },\n",
    "    {\n",
    "        \"tag\": \"goodbye\",\n",
    "        \"patterns\": [\"Bye\", \"See you later\", \"Goodbye\", \"Take care\"],\n",
    "        \"responses\": [\"Goodbye\", \"See you later\", \"Take care\"]\n",
    "    },\n",
    "    {\n",
    "        \"tag\": \"thanks\",\n",
    "        \"patterns\": [\"Thank you\", \"Thanks\", \"Thanks a lot\", \"I appreciate it\"],\n",
    "        \"responses\": [\"You're welcome\", \"No problem\", \"Glad I could help\"]\n",
    "    },\n",
    "    {\n",
    "        \"tag\": \"about\",\n",
    "        \"patterns\": [\"What can you do\", \"Who are you\", \"What are you\", \"What is your purpose\"],\n",
    "        \"responses\": [\"I am a chatbot\", \"My purpose is to assist you\", \"I can answer questions and provide assistance\"]\n",
    "    },\n",
    "    {\n",
    "        \"tag\": \"help\",\n",
    "        \"patterns\": [\"Help\", \"I need help\", \"Can you help me\", \"What should I do\"],\n",
    "        \"responses\": [\"Sure, what do you need help with?\", \"I'm here to help. What's the problem?\", \"How can I assist you?\"]\n",
    "    },\n",
    "    {\n",
    "        \"tag\": \"age\",\n",
    "        \"patterns\": [\"How old are you\", \"What's your age\"],\n",
    "        \"responses\": [\"I don't have an age. I'm a chatbot.\", \"I was just born in the digital world.\", \"Age is just a number for me.\"]\n",
    "    },\n",
    "    {\n",
    "        \"tag\": \"weather\",\n",
    "        \"patterns\": [\"What's the weather like\", \"How's the weather today\"],\n",
    "        \"responses\": [\"I'm sorry, I cannot provide real-time weather information.\", \"You can check the weather on a weather app or website.\"]\n",
    "    },\n",
    "    {\n",
    "        \"tag\": \"budget\",\n",
    "        \"patterns\": [\"How can I make a budget\", \"What's a good budgeting strategy\", \"How do I create a budget\"],\n",
    "        \"responses\": [\"To make a budget, start by tracking your income and expenses. Then, allocate your income towards essential expenses like rent, food, and bills. Next, allocate some of your income towards savings and debt repayment. Finally, allocate the remainder of your income towards discretionary expenses like entertainment and hobbies.\", \"A good budgeting strategy is to use the 50/30/20 rule. This means allocating 50% of your income towards essential expenses, 30% towards discretionary expenses, and 20% towards savings and debt repayment.\", \"To create a budget, start by setting financial goals for yourself. Then, track your income and expenses for a few months to get a sense of where your money is going. Next, create a budget by allocating your income towards essential expenses, savings and debt repayment, and discretionary expenses.\"]\n",
    "    },\n",
    "    {\n",
    "        \"tag\": \"credit_score\",\n",
    "        \"patterns\": [\"What is a credit score\", \"How do I check my credit score\", \"How can I improve my credit score\"],\n",
    "        \"responses\": [\"A credit score is a number that represents your creditworthiness. It is based on your credit history and is used by lenders to determine whether or not to lend you money. The higher your credit score, the more likely you are to be approved for credit.\", \"You can check your credit score for free on several websites such as Credit Karma and Credit Sesame.\"]\n",
    "    },\n",
    "    {\n",
    "        \"tag\": \"noanswer\",\n",
    "         \"patterns\": [],\n",
    "         \"responses\": [\"Sorry, can't understand you\", \"Please give me more info\", \"Not sure I understand\"],\n",
    "        \n",
    "    },\n",
    "    {\n",
    "        'tag':\"Courses\",\n",
    "        \"patterns\": [\"Tell me about data science\",\"What is data Science\",\"Can we Use machine learning in Data Science\"],\n",
    "        \"responses\": [\"Data science is an interdisciplinary academic field [1] that uses statistics, scientific computing, scientific methods, processes, algorithms and systems to extract or extrapolate knowledge and insights from noisy, structured, and unstructured data\",\"Data science is the study of data to extract meaningful insights for business. It is a multidisciplinary approach that combines principles and practices from the fields of mathematics, statistics, artificial intelligence, and computer engineering to analyze large amounts of data. This analysis helps data scientists to ask and answer questions like what happened, why it happened, what will happen, and what can be done with the results.\"],\n",
    "        \n",
    "    }\n",
    "]"
   ]
  },
  {
   "cell_type": "code",
   "execution_count": 5,
   "id": "b5202760",
   "metadata": {},
   "outputs": [
    {
     "name": "stdout",
     "output_type": "stream",
     "text": [
      "<class 'list'>\n"
     ]
    }
   ],
   "source": [
    "print(type(intents))"
   ]
  },
  {
   "cell_type": "markdown",
   "id": "51068502",
   "metadata": {},
   "source": [
    "Now let’s prepare the intents and train a Machine Learning model for the chatbot:"
   ]
  },
  {
   "cell_type": "code",
   "execution_count": 6,
   "id": "8f1b2bcb",
   "metadata": {},
   "outputs": [
    {
     "data": {
      "text/plain": [
       "LogisticRegression(max_iter=10000, random_state=0)"
      ]
     },
     "execution_count": 6,
     "metadata": {},
     "output_type": "execute_result"
    }
   ],
   "source": [
    "# term freq inverse document frequency & count vectorizer\n",
    "# create the vectorizer and classifier\n",
    "\n",
    "vectorizer = TfidfVectorizer()\n",
    "clf = LogisticRegression(random_state=0, max_iter=10000)\n",
    "\n",
    "# Preprocess the data\n",
    "tags = []\n",
    "patterns = []\n",
    "for intent in intents:\n",
    "    for pattern in intent['patterns']:\n",
    "        tags.append(intent['tag'])\n",
    "        patterns.append(pattern)\n",
    "\n",
    "# training the model\n",
    "x = vectorizer.fit_transform(patterns)\n",
    "y = tags\n",
    "clf.fit(x, y)"
   ]
  },
  {
   "cell_type": "markdown",
   "id": "e67b91fa",
   "metadata": {},
   "source": [
    "Now let’s write a Python function to chat with the chatbot:"
   ]
  },
  {
   "cell_type": "code",
   "execution_count": 7,
   "id": "94cbcece",
   "metadata": {},
   "outputs": [],
   "source": [
    "def chatbot(input_text):\n",
    "    input_text=vectorizer.transform([input_text])\n",
    "    tag=clf.predict(input_text)[0]\n",
    "    print(tag)\n",
    "    for intent in intents:\n",
    "        if intent['tag']==tag:\n",
    "            response = random.choice(intent['responses'])\n",
    "            return response\n",
    "            "
   ]
  },
  {
   "cell_type": "code",
   "execution_count": 8,
   "id": "116d91f7",
   "metadata": {
    "scrolled": true
   },
   "outputs": [
    {
     "name": "stdout",
     "output_type": "stream",
     "text": [
      "greeting\n"
     ]
    },
    {
     "data": {
      "text/plain": [
       "'Hi there'"
      ]
     },
     "execution_count": 8,
     "metadata": {},
     "output_type": "execute_result"
    }
   ],
   "source": [
    "chatbot(\"hey\")"
   ]
  },
  {
   "cell_type": "code",
   "execution_count": 9,
   "id": "34124dc2",
   "metadata": {},
   "outputs": [],
   "source": [
    "# pip install typing-extensions --upgrade command"
   ]
  },
  {
   "cell_type": "code",
   "execution_count": 10,
   "id": "d8c2aba7",
   "metadata": {},
   "outputs": [],
   "source": [
    "# pip install typing-extensions --upgrade"
   ]
  },
  {
   "cell_type": "code",
   "execution_count": 11,
   "id": "79ed513c",
   "metadata": {
    "scrolled": false
   },
   "outputs": [],
   "source": [
    "# import streamlit as st\n",
    "# ssl._create_default_https_context = ssl._create_unverified_context"
   ]
  },
  {
   "cell_type": "markdown",
   "id": "e20bd166",
   "metadata": {},
   "source": [
    "So, here’s how we can deploy the chatbot using Python:"
   ]
  },
  {
   "cell_type": "code",
   "execution_count": 12,
   "id": "4094e9d0",
   "metadata": {},
   "outputs": [],
   "source": [
    "# counter = 0\n",
    "\n",
    "# def main():\n",
    "#     global counter\n",
    "#     st.title(\"Chatbot\")\n",
    "#     st.write(\"Welcome to the chatbot. Please type a message and press Enter to start the conversation.\")\n",
    "\n",
    "#     counter += 1\n",
    "#     user_input = st.text_input(\"You:\", key=f\"user_input_{counter}\")\n",
    "\n",
    "#     if user_input:\n",
    "#         response = chatbot(user_input)\n",
    "#         st.text_area(\"Chatbot:\", value=response, height=100, max_chars=None, key=f\"chatbot_response_{counter}\")\n",
    "\n",
    "#         if response.lower() in ['goodbye', 'bye']:\n",
    "#             st.write(\"Thank you for chatting with me. Have a great day!\")\n",
    "#             st.stop()\n",
    "\n",
    "# if __name__ == '__main__':\n",
    "#     main()"
   ]
  },
  {
   "cell_type": "code",
   "execution_count": 13,
   "id": "9572f3e4",
   "metadata": {},
   "outputs": [],
   "source": [
    "# streamlit run filename.py"
   ]
  },
  {
   "cell_type": "markdown",
   "id": "c3042411",
   "metadata": {},
   "source": [
    "# Summary\n",
    "\n",
    "An end-to-end chatbot refers to a chatbot that can handle a complete conversation from start to finish without requiring human assistance. Creating an end-to-end Chatbot involves collecting data, choosing a programming language and NLP tools, training the chatbot, and testing and refining it before making it available to users. I hope you liked this article on building an end-to-end chatbot using Python."
   ]
  }
 ],
 "metadata": {
  "kernelspec": {
   "display_name": "Python 3",
   "language": "python",
   "name": "python3"
  },
  "language_info": {
   "codemirror_mode": {
    "name": "ipython",
    "version": 3
   },
   "file_extension": ".py",
   "mimetype": "text/x-python",
   "name": "python",
   "nbconvert_exporter": "python",
   "pygments_lexer": "ipython3",
   "version": "3.8.8"
  }
 },
 "nbformat": 4,
 "nbformat_minor": 5
}
